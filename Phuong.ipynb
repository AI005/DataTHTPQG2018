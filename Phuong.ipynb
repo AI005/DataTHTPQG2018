{
 "cells": [
  {
   "cell_type": "code",
   "execution_count": null,
   "id": "young-munich",
   "metadata": {},
   "outputs": [],
   "source": [
    "import pandas as pd\n",
    "import matplotlib.pyplot as plt\n",
    "import seaborn as sns\n",
    "import numpy as np"
   ]
  },
  {
   "cell_type": "code",
   "execution_count": null,
   "id": "verbal-sunrise",
   "metadata": {},
   "outputs": [],
   "source": [
    "df_2018 = pd.read_csv('2018.csv', index_col=0)"
   ]
  },
  {
   "cell_type": "markdown",
   "id": "interim-catalog",
   "metadata": {},
   "source": [
    "### Fill missing value by -1"
   ]
  },
  {
   "cell_type": "code",
   "execution_count": null,
   "id": "christian-parallel",
   "metadata": {},
   "outputs": [],
   "source": [
    "df_2018.fillna(-1, inplace=True)\n",
    "df_2018.isnull().sum()"
   ]
  },
  {
   "cell_type": "code",
   "execution_count": null,
   "id": "vertical-rogers",
   "metadata": {},
   "outputs": [],
   "source": [
    "df_2018.index"
   ]
  },
  {
   "cell_type": "code",
   "execution_count": null,
   "id": "ancient-signal",
   "metadata": {},
   "outputs": [],
   "source": [
    "df_2018.reset_index(drop=True, inplace=True)"
   ]
  },
  {
   "cell_type": "code",
   "execution_count": null,
   "id": "aquatic-density",
   "metadata": {},
   "outputs": [],
   "source": [
    "df_2018.index"
   ]
  },
  {
   "cell_type": "code",
   "execution_count": null,
   "id": "brutal-spirit",
   "metadata": {},
   "outputs": [],
   "source": [
    "df_2018.head()"
   ]
  },
  {
   "cell_type": "markdown",
   "id": "ordinary-correlation",
   "metadata": {},
   "source": [
    "# Cá nhân"
   ]
  },
  {
   "cell_type": "code",
   "execution_count": null,
   "id": "rough-aberdeen",
   "metadata": {},
   "outputs": [],
   "source": []
  }
 ],
 "metadata": {
  "kernelspec": {
   "display_name": "Python 3",
   "language": "python",
   "name": "python3"
  },
  "language_info": {
   "codemirror_mode": {
    "name": "ipython",
    "version": 3
   },
   "file_extension": ".py",
   "mimetype": "text/x-python",
   "name": "python",
   "nbconvert_exporter": "python",
   "pygments_lexer": "ipython3",
   "version": "3.8.5"
  }
 },
 "nbformat": 4,
 "nbformat_minor": 5
}
