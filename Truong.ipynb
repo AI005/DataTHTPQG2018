{
 "cells": [
  {
   "cell_type": "code",
   "execution_count": 1,
   "metadata": {},
   "outputs": [],
   "source": [
    "import pandas as pd\n",
    "import matplotlib.pyplot as plt\n",
    "import matplotlib.patches as mpatches\n",
    "import seaborn as sns\n",
    "import numpy as np"
   ]
  },
  {
   "cell_type": "code",
   "execution_count": 2,
   "metadata": {},
   "outputs": [],
   "source": [
    "df_2018 = pd.read_csv('2018.csv', index_col=0)"
   ]
  },
  {
   "cell_type": "markdown",
   "metadata": {},
   "source": [
    "### Fill missing value by -1"
   ]
  },
  {
   "cell_type": "code",
   "execution_count": 3,
   "metadata": {},
   "outputs": [
    {
     "data": {
      "text/plain": [
       "code    0\n",
       "dia     0\n",
       "cd      0\n",
       "hoa     0\n",
       "khtn    0\n",
       "khxh    0\n",
       "su      0\n",
       "anh     0\n",
       "van     0\n",
       "sinh    0\n",
       "toan    0\n",
       "li      0\n",
       "city    0\n",
       "dtype: int64"
      ]
     },
     "execution_count": 3,
     "metadata": {},
     "output_type": "execute_result"
    }
   ],
   "source": [
    "df_2018.fillna(-1, inplace=True)\n",
    "df_2018.isnull().sum()"
   ]
  },
  {
   "cell_type": "code",
   "execution_count": 4,
   "metadata": {},
   "outputs": [
    {
     "data": {
      "text/plain": [
       "Float64Index([nan, nan, nan, nan, nan, nan, nan, nan, nan, nan,\n",
       "              ...\n",
       "              nan, nan, nan, nan, nan, nan, nan, nan, nan, nan],\n",
       "             dtype='float64', length=744396)"
      ]
     },
     "execution_count": 4,
     "metadata": {},
     "output_type": "execute_result"
    }
   ],
   "source": [
    "df_2018.index"
   ]
  },
  {
   "cell_type": "code",
   "execution_count": 5,
   "metadata": {},
   "outputs": [],
   "source": [
    "df_2018.reset_index(drop=True, inplace=True)"
   ]
  },
  {
   "cell_type": "code",
   "execution_count": 6,
   "metadata": {},
   "outputs": [
    {
     "data": {
      "text/plain": [
       "RangeIndex(start=0, stop=744396, step=1)"
      ]
     },
     "execution_count": 6,
     "metadata": {},
     "output_type": "execute_result"
    }
   ],
   "source": [
    "df_2018.index"
   ]
  },
  {
   "cell_type": "code",
   "execution_count": 7,
   "metadata": {},
   "outputs": [
    {
     "data": {
      "text/html": [
       "<div>\n",
       "<style scoped>\n",
       "    .dataframe tbody tr th:only-of-type {\n",
       "        vertical-align: middle;\n",
       "    }\n",
       "\n",
       "    .dataframe tbody tr th {\n",
       "        vertical-align: top;\n",
       "    }\n",
       "\n",
       "    .dataframe thead th {\n",
       "        text-align: right;\n",
       "    }\n",
       "</style>\n",
       "<table border=\"1\" class=\"dataframe\">\n",
       "  <thead>\n",
       "    <tr style=\"text-align: right;\">\n",
       "      <th></th>\n",
       "      <th>code</th>\n",
       "      <th>dia</th>\n",
       "      <th>cd</th>\n",
       "      <th>hoa</th>\n",
       "      <th>khtn</th>\n",
       "      <th>khxh</th>\n",
       "      <th>su</th>\n",
       "      <th>anh</th>\n",
       "      <th>van</th>\n",
       "      <th>sinh</th>\n",
       "      <th>toan</th>\n",
       "      <th>li</th>\n",
       "      <th>city</th>\n",
       "    </tr>\n",
       "  </thead>\n",
       "  <tbody>\n",
       "    <tr>\n",
       "      <th>0</th>\n",
       "      <td>18010226</td>\n",
       "      <td>6.50</td>\n",
       "      <td>8.25</td>\n",
       "      <td>-1.0</td>\n",
       "      <td>-1.00</td>\n",
       "      <td>5.92</td>\n",
       "      <td>3.0</td>\n",
       "      <td>3.0</td>\n",
       "      <td>3.75</td>\n",
       "      <td>-1.0</td>\n",
       "      <td>3.0</td>\n",
       "      <td>-1.00</td>\n",
       "      <td>18</td>\n",
       "    </tr>\n",
       "    <tr>\n",
       "      <th>1</th>\n",
       "      <td>18010229</td>\n",
       "      <td>9.00</td>\n",
       "      <td>8.25</td>\n",
       "      <td>-1.0</td>\n",
       "      <td>-1.00</td>\n",
       "      <td>7.75</td>\n",
       "      <td>6.0</td>\n",
       "      <td>9.0</td>\n",
       "      <td>7.50</td>\n",
       "      <td>-1.0</td>\n",
       "      <td>8.8</td>\n",
       "      <td>-1.00</td>\n",
       "      <td>18</td>\n",
       "    </tr>\n",
       "    <tr>\n",
       "      <th>2</th>\n",
       "      <td>18010232</td>\n",
       "      <td>-1.00</td>\n",
       "      <td>-1.00</td>\n",
       "      <td>5.5</td>\n",
       "      <td>5.42</td>\n",
       "      <td>-1.00</td>\n",
       "      <td>-1.0</td>\n",
       "      <td>4.0</td>\n",
       "      <td>5.50</td>\n",
       "      <td>5.0</td>\n",
       "      <td>6.0</td>\n",
       "      <td>5.75</td>\n",
       "      <td>18</td>\n",
       "    </tr>\n",
       "    <tr>\n",
       "      <th>3</th>\n",
       "      <td>18010242</td>\n",
       "      <td>4.75</td>\n",
       "      <td>7.25</td>\n",
       "      <td>-1.0</td>\n",
       "      <td>-1.00</td>\n",
       "      <td>5.17</td>\n",
       "      <td>3.5</td>\n",
       "      <td>2.6</td>\n",
       "      <td>5.75</td>\n",
       "      <td>-1.0</td>\n",
       "      <td>3.4</td>\n",
       "      <td>-1.00</td>\n",
       "      <td>18</td>\n",
       "    </tr>\n",
       "    <tr>\n",
       "      <th>4</th>\n",
       "      <td>18010247</td>\n",
       "      <td>6.25</td>\n",
       "      <td>8.00</td>\n",
       "      <td>-1.0</td>\n",
       "      <td>-1.00</td>\n",
       "      <td>5.92</td>\n",
       "      <td>3.5</td>\n",
       "      <td>3.0</td>\n",
       "      <td>6.75</td>\n",
       "      <td>-1.0</td>\n",
       "      <td>3.8</td>\n",
       "      <td>-1.00</td>\n",
       "      <td>18</td>\n",
       "    </tr>\n",
       "  </tbody>\n",
       "</table>\n",
       "</div>"
      ],
      "text/plain": [
       "       code   dia    cd  hoa  khtn  khxh   su  anh   van  sinh  toan    li  \\\n",
       "0  18010226  6.50  8.25 -1.0 -1.00  5.92  3.0  3.0  3.75  -1.0   3.0 -1.00   \n",
       "1  18010229  9.00  8.25 -1.0 -1.00  7.75  6.0  9.0  7.50  -1.0   8.8 -1.00   \n",
       "2  18010232 -1.00 -1.00  5.5  5.42 -1.00 -1.0  4.0  5.50   5.0   6.0  5.75   \n",
       "3  18010242  4.75  7.25 -1.0 -1.00  5.17  3.5  2.6  5.75  -1.0   3.4 -1.00   \n",
       "4  18010247  6.25  8.00 -1.0 -1.00  5.92  3.5  3.0  6.75  -1.0   3.8 -1.00   \n",
       "\n",
       "   city  \n",
       "0    18  \n",
       "1    18  \n",
       "2    18  \n",
       "3    18  \n",
       "4    18  "
      ]
     },
     "execution_count": 7,
     "metadata": {},
     "output_type": "execute_result"
    }
   ],
   "source": [
    "df_2018.head()"
   ]
  },
  {
   "cell_type": "markdown",
   "metadata": {},
   "source": [
    "# Cá nhân\n",
    "#### Phân tích top 100 thí sinh cao điểm nhất cả nước."
   ]
  },
  {
   "cell_type": "code",
   "execution_count": 8,
   "metadata": {},
   "outputs": [],
   "source": [
    "def top_100_comb(subject,data): # top 100 thí sinh cao điểm nhất theo từng tổ hợp môn.\n",
    "    df = pd.DataFrame({'diem': data[subject].sum(axis=1),\n",
    "                  'city': df_2018.city.values})\n",
    "    return df.sort_values(by='diem',ascending = False).head(100)"
   ]
  },
  {
   "cell_type": "markdown",
   "metadata": {},
   "source": [
    "###### Điểm khối A00 ( toán , lí, hóa)."
   ]
  },
  {
   "cell_type": "code",
   "execution_count": 17,
   "metadata": {},
   "outputs": [
    {
     "data": {
      "text/plain": [
       "<matplotlib.axes._subplots.AxesSubplot at 0x1fbf4691190>"
      ]
     },
     "execution_count": 17,
     "metadata": {},
     "output_type": "execute_result"
    },
    {
     "data": {
      "image/png": "[encoded data removed]",
      "text/plain": [
       "<Figure size 1440x720 with 1 Axes>"
      ]
     },
     "metadata": {
      "needs_background": "light"
     },
     "output_type": "display_data"
    }
   ],
   "source": [
    "plt.figure(figsize=(20,10))\n",
    "top_100_A00 = top_100_comb(['toan','li','hoa'],df_2018)\n",
    "sns.countplot(data = top_100_A00, x = 'city')"
   ]
  },
  {
   "cell_type": "markdown",
   "metadata": {},
   "source": [
    "###### Điểm khối A01 (toán, lí, anh)."
   ]
  },
  {
   "cell_type": "code",
   "execution_count": 24,
   "metadata": {
    "scrolled": false
   },
   "outputs": [
    {
     "data": {
      "text/plain": [
       "<matplotlib.axes._subplots.AxesSubplot at 0x1fbf2f89e20>"
      ]
     },
     "execution_count": 24,
     "metadata": {},
     "output_type": "execute_result"
    },
    {
     "data": {
      "image/png": "[encoded data removed]",
      "text/plain": [
       "<Figure size 1440x720 with 1 Axes>"
      ]
     },
     "metadata": {
      "needs_background": "light"
     },
     "output_type": "display_data"
    }
   ],
   "source": [
    "plt.figure(figsize=(20,10))\n",
    "top_100_A01 = top_100_comb(['toan','li','anh'],df_2018)\n",
    "#sns.countplot(data = top_100_A01, x = 'city',hue = 'city',dodge = False)\n",
    "sns.countplot(data = top_100_A01, x = 'city')"
   ]
  },
  {
   "cell_type": "markdown",
   "metadata": {},
   "source": [
    "- Biểu đồ countplot ( biểu đồ dạng cột, biểu diễn số lượng quan sát của từng loại).\n",
    "- Khi sử dụng biểu đồ này, có thể quan sát được sự tương quan giữa số lượng học sinh có điểm top 100 của tổ hợp môn. Cũng dễ dàng thấy được tỉnh nào có lượng học sinh trong top cao nhất.\n",
    "- Hà Giang ( mã tỉnh 5) có số lượng học sinh thuộc top là cao nhất trong tổ hợp khối A ( A00( toán, lí hóa) và A01( toán, lí, anh)), theo sau là Hà Nội(1), Hòa Bình(23).Có thể nhận ra vấn đề ở đây chính là tại sao Hà Giang và Hòa Bình lại có lượng thí sih top đầu cao như vậy, cao hơn cả Hà Nội lẫn Tp Hồ Chí Minh."
   ]
  }
 ],
 "metadata": {
  "kernelspec": {
   "display_name": "Python 3",
   "language": "python",
   "name": "python3"
  },
  "language_info": {
   "codemirror_mode": {
    "name": "ipython",
    "version": 3
   },
   "file_extension": ".py",
   "mimetype": "text/x-python",
   "name": "python",
   "nbconvert_exporter": "python",
   "pygments_lexer": "ipython3",
   "version": "3.8.3"
  }
 },
 "nbformat": 4,
 "nbformat_minor": 5
}
