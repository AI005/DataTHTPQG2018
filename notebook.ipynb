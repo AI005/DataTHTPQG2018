{
 "cells": [
  {
   "cell_type": "code",
   "execution_count": 2,
   "id": "greatest-values",
   "metadata": {},
   "outputs": [],
   "source": [
    "import pandas as pd\n",
    "import matplotlib.pyplot as plt\n",
    "import seaborn as sns\n",
    "import numpy as np"
   ]
  },
  {
   "cell_type": "code",
   "execution_count": 9,
   "id": "personalized-resource",
   "metadata": {},
   "outputs": [],
   "source": [
    "df_2018 = pd.read_csv('2018.csv', index_col=0)"
   ]
  },
  {
   "cell_type": "code",
   "execution_count": 10,
   "metadata": {},
   "outputs": [
    {
     "output_type": "execute_result",
     "data": {
      "text/plain": [
       "         code   dia    cd  hoa  khtn  khxh   su  anh   van  sinh  toan    li  \\\n",
       "NaN  18010226  6.50  8.25  NaN   NaN  5.92  3.0  3.0  3.75   NaN   3.0   NaN   \n",
       "NaN  18010229  9.00  8.25  NaN   NaN  7.75  6.0  9.0  7.50   NaN   8.8   NaN   \n",
       "NaN  18010232   NaN   NaN  5.5  5.42   NaN  NaN  4.0  5.50   5.0   6.0  5.75   \n",
       "NaN  18010242  4.75  7.25  NaN   NaN  5.17  3.5  2.6  5.75   NaN   3.4   NaN   \n",
       "NaN  18010247  6.25  8.00  NaN   NaN  5.92  3.5  3.0  6.75   NaN   3.8   NaN   \n",
       "\n",
       "     city  \n",
       "NaN    18  \n",
       "NaN    18  \n",
       "NaN    18  \n",
       "NaN    18  \n",
       "NaN    18  "
      ],
      "text/html": "<div>\n<style scoped>\n    .dataframe tbody tr th:only-of-type {\n        vertical-align: middle;\n    }\n\n    .dataframe tbody tr th {\n        vertical-align: top;\n    }\n\n    .dataframe thead th {\n        text-align: right;\n    }\n</style>\n<table border=\"1\" class=\"dataframe\">\n  <thead>\n    <tr style=\"text-align: right;\">\n      <th></th>\n      <th>code</th>\n      <th>dia</th>\n      <th>cd</th>\n      <th>hoa</th>\n      <th>khtn</th>\n      <th>khxh</th>\n      <th>su</th>\n      <th>anh</th>\n      <th>van</th>\n      <th>sinh</th>\n      <th>toan</th>\n      <th>li</th>\n      <th>city</th>\n    </tr>\n  </thead>\n  <tbody>\n    <tr>\n      <th>NaN</th>\n      <td>18010226</td>\n      <td>6.50</td>\n      <td>8.25</td>\n      <td>NaN</td>\n      <td>NaN</td>\n      <td>5.92</td>\n      <td>3.0</td>\n      <td>3.0</td>\n      <td>3.75</td>\n      <td>NaN</td>\n      <td>3.0</td>\n      <td>NaN</td>\n      <td>18</td>\n    </tr>\n    <tr>\n      <th>NaN</th>\n      <td>18010229</td>\n      <td>9.00</td>\n      <td>8.25</td>\n      <td>NaN</td>\n      <td>NaN</td>\n      <td>7.75</td>\n      <td>6.0</td>\n      <td>9.0</td>\n      <td>7.50</td>\n      <td>NaN</td>\n      <td>8.8</td>\n      <td>NaN</td>\n      <td>18</td>\n    </tr>\n    <tr>\n      <th>NaN</th>\n      <td>18010232</td>\n      <td>NaN</td>\n      <td>NaN</td>\n      <td>5.5</td>\n      <td>5.42</td>\n      <td>NaN</td>\n      <td>NaN</td>\n      <td>4.0</td>\n      <td>5.50</td>\n      <td>5.0</td>\n      <td>6.0</td>\n      <td>5.75</td>\n      <td>18</td>\n    </tr>\n    <tr>\n      <th>NaN</th>\n      <td>18010242</td>\n      <td>4.75</td>\n      <td>7.25</td>\n      <td>NaN</td>\n      <td>NaN</td>\n      <td>5.17</td>\n      <td>3.5</td>\n      <td>2.6</td>\n      <td>5.75</td>\n      <td>NaN</td>\n      <td>3.4</td>\n      <td>NaN</td>\n      <td>18</td>\n    </tr>\n    <tr>\n      <th>NaN</th>\n      <td>18010247</td>\n      <td>6.25</td>\n      <td>8.00</td>\n      <td>NaN</td>\n      <td>NaN</td>\n      <td>5.92</td>\n      <td>3.5</td>\n      <td>3.0</td>\n      <td>6.75</td>\n      <td>NaN</td>\n      <td>3.8</td>\n      <td>NaN</td>\n      <td>18</td>\n    </tr>\n  </tbody>\n</table>\n</div>"
     },
     "metadata": {},
     "execution_count": 10
    }
   ],
   "source": [
    "df_2018.head()"
   ]
  },
  {
   "cell_type": "code",
   "execution_count": 11,
   "metadata": {},
   "outputs": [
    {
     "output_type": "execute_result",
     "data": {
      "text/plain": [
       "         code   dia    cd  hoa  khtn  khxh   su  anh   van sinh toan    li  \\\n",
       "NaN  18010226   6.5  8.25   -1    -1  5.92  3.0  3.0  3.75   -1  3.0    -1   \n",
       "NaN  18010229   9.0  8.25   -1    -1  7.75  6.0  9.0   7.5   -1  8.8    -1   \n",
       "NaN  18010232    -1    -1  5.5  5.42    -1   -1  4.0   5.5  5.0  6.0  5.75   \n",
       "NaN  18010242  4.75  7.25   -1    -1  5.17  3.5  2.6  5.75   -1  3.4    -1   \n",
       "NaN  18010247  6.25   8.0   -1    -1  5.92  3.5  3.0  6.75   -1  3.8    -1   \n",
       "\n",
       "     city  \n",
       "NaN    18  \n",
       "NaN    18  \n",
       "NaN    18  \n",
       "NaN    18  \n",
       "NaN    18  "
      ],
      "text/html": "<div>\n<style scoped>\n    .dataframe tbody tr th:only-of-type {\n        vertical-align: middle;\n    }\n\n    .dataframe tbody tr th {\n        vertical-align: top;\n    }\n\n    .dataframe thead th {\n        text-align: right;\n    }\n</style>\n<table border=\"1\" class=\"dataframe\">\n  <thead>\n    <tr style=\"text-align: right;\">\n      <th></th>\n      <th>code</th>\n      <th>dia</th>\n      <th>cd</th>\n      <th>hoa</th>\n      <th>khtn</th>\n      <th>khxh</th>\n      <th>su</th>\n      <th>anh</th>\n      <th>van</th>\n      <th>sinh</th>\n      <th>toan</th>\n      <th>li</th>\n      <th>city</th>\n    </tr>\n  </thead>\n  <tbody>\n    <tr>\n      <th>NaN</th>\n      <td>18010226</td>\n      <td>6.5</td>\n      <td>8.25</td>\n      <td>-1</td>\n      <td>-1</td>\n      <td>5.92</td>\n      <td>3.0</td>\n      <td>3.0</td>\n      <td>3.75</td>\n      <td>-1</td>\n      <td>3.0</td>\n      <td>-1</td>\n      <td>18</td>\n    </tr>\n    <tr>\n      <th>NaN</th>\n      <td>18010229</td>\n      <td>9.0</td>\n      <td>8.25</td>\n      <td>-1</td>\n      <td>-1</td>\n      <td>7.75</td>\n      <td>6.0</td>\n      <td>9.0</td>\n      <td>7.5</td>\n      <td>-1</td>\n      <td>8.8</td>\n      <td>-1</td>\n      <td>18</td>\n    </tr>\n    <tr>\n      <th>NaN</th>\n      <td>18010232</td>\n      <td>-1</td>\n      <td>-1</td>\n      <td>5.5</td>\n      <td>5.42</td>\n      <td>-1</td>\n      <td>-1</td>\n      <td>4.0</td>\n      <td>5.5</td>\n      <td>5.0</td>\n      <td>6.0</td>\n      <td>5.75</td>\n      <td>18</td>\n    </tr>\n    <tr>\n      <th>NaN</th>\n      <td>18010242</td>\n      <td>4.75</td>\n      <td>7.25</td>\n      <td>-1</td>\n      <td>-1</td>\n      <td>5.17</td>\n      <td>3.5</td>\n      <td>2.6</td>\n      <td>5.75</td>\n      <td>-1</td>\n      <td>3.4</td>\n      <td>-1</td>\n      <td>18</td>\n    </tr>\n    <tr>\n      <th>NaN</th>\n      <td>18010247</td>\n      <td>6.25</td>\n      <td>8.0</td>\n      <td>-1</td>\n      <td>-1</td>\n      <td>5.92</td>\n      <td>3.5</td>\n      <td>3.0</td>\n      <td>6.75</td>\n      <td>-1</td>\n      <td>3.8</td>\n      <td>-1</td>\n      <td>18</td>\n    </tr>\n  </tbody>\n</table>\n</div>"
     },
     "metadata": {},
     "execution_count": 11
    }
   ],
   "source": [
    "df_2018 = df_2018.fillna('-1')\n",
    "df_2018.head()"
   ]
  },
  {
   "source": [
    "### Fill missing value by -1"
   ],
   "cell_type": "markdown",
   "metadata": {}
  },
  {
   "cell_type": "code",
   "execution_count": 12,
   "metadata": {},
   "outputs": [
    {
     "output_type": "execute_result",
     "data": {
      "text/plain": [
       "code    0\n",
       "dia     0\n",
       "cd      0\n",
       "hoa     0\n",
       "khtn    0\n",
       "khxh    0\n",
       "su      0\n",
       "anh     0\n",
       "van     0\n",
       "sinh    0\n",
       "toan    0\n",
       "li      0\n",
       "city    0\n",
       "dtype: int64"
      ]
     },
     "metadata": {},
     "execution_count": 12
    }
   ],
   "source": [
    "df_2018.isnull().sum()"
   ]
  },
  {
   "cell_type": "code",
   "execution_count": 14,
   "metadata": {},
   "outputs": [
    {
     "output_type": "execute_result",
     "data": {
      "text/plain": [
       "Float64Index([nan, nan, nan, nan, nan, nan, nan, nan, nan, nan,\n",
       "              ...\n",
       "              nan, nan, nan, nan, nan, nan, nan, nan, nan, nan],\n",
       "             dtype='float64', length=744396)"
      ]
     },
     "metadata": {},
     "execution_count": 14
    }
   ],
   "source": [
    "df_2018.index"
   ]
  },
  {
   "cell_type": "code",
   "execution_count": 19,
   "metadata": {},
   "outputs": [],
   "source": [
    "df_2018.reset_index(drop=True, inplace=True)"
   ]
  },
  {
   "cell_type": "code",
   "execution_count": 20,
   "metadata": {},
   "outputs": [
    {
     "output_type": "execute_result",
     "data": {
      "text/plain": [
       "RangeIndex(start=0, stop=744396, step=1)"
      ]
     },
     "metadata": {},
     "execution_count": 20
    }
   ],
   "source": [
    "df_2018.index"
   ]
  },
  {
   "cell_type": "code",
   "execution_count": 21,
   "metadata": {},
   "outputs": [
    {
     "output_type": "execute_result",
     "data": {
      "text/plain": [
       "       code   dia    cd  hoa  khtn  khxh   su  anh   van sinh toan    li  city\n",
       "0  18010226   6.5  8.25   -1    -1  5.92  3.0  3.0  3.75   -1  3.0    -1    18\n",
       "1  18010229   9.0  8.25   -1    -1  7.75  6.0  9.0   7.5   -1  8.8    -1    18\n",
       "2  18010232    -1    -1  5.5  5.42    -1   -1  4.0   5.5  5.0  6.0  5.75    18\n",
       "3  18010242  4.75  7.25   -1    -1  5.17  3.5  2.6  5.75   -1  3.4    -1    18\n",
       "4  18010247  6.25   8.0   -1    -1  5.92  3.5  3.0  6.75   -1  3.8    -1    18"
      ],
      "text/html": "<div>\n<style scoped>\n    .dataframe tbody tr th:only-of-type {\n        vertical-align: middle;\n    }\n\n    .dataframe tbody tr th {\n        vertical-align: top;\n    }\n\n    .dataframe thead th {\n        text-align: right;\n    }\n</style>\n<table border=\"1\" class=\"dataframe\">\n  <thead>\n    <tr style=\"text-align: right;\">\n      <th></th>\n      <th>code</th>\n      <th>dia</th>\n      <th>cd</th>\n      <th>hoa</th>\n      <th>khtn</th>\n      <th>khxh</th>\n      <th>su</th>\n      <th>anh</th>\n      <th>van</th>\n      <th>sinh</th>\n      <th>toan</th>\n      <th>li</th>\n      <th>city</th>\n    </tr>\n  </thead>\n  <tbody>\n    <tr>\n      <th>0</th>\n      <td>18010226</td>\n      <td>6.5</td>\n      <td>8.25</td>\n      <td>-1</td>\n      <td>-1</td>\n      <td>5.92</td>\n      <td>3.0</td>\n      <td>3.0</td>\n      <td>3.75</td>\n      <td>-1</td>\n      <td>3.0</td>\n      <td>-1</td>\n      <td>18</td>\n    </tr>\n    <tr>\n      <th>1</th>\n      <td>18010229</td>\n      <td>9.0</td>\n      <td>8.25</td>\n      <td>-1</td>\n      <td>-1</td>\n      <td>7.75</td>\n      <td>6.0</td>\n      <td>9.0</td>\n      <td>7.5</td>\n      <td>-1</td>\n      <td>8.8</td>\n      <td>-1</td>\n      <td>18</td>\n    </tr>\n    <tr>\n      <th>2</th>\n      <td>18010232</td>\n      <td>-1</td>\n      <td>-1</td>\n      <td>5.5</td>\n      <td>5.42</td>\n      <td>-1</td>\n      <td>-1</td>\n      <td>4.0</td>\n      <td>5.5</td>\n      <td>5.0</td>\n      <td>6.0</td>\n      <td>5.75</td>\n      <td>18</td>\n    </tr>\n    <tr>\n      <th>3</th>\n      <td>18010242</td>\n      <td>4.75</td>\n      <td>7.25</td>\n      <td>-1</td>\n      <td>-1</td>\n      <td>5.17</td>\n      <td>3.5</td>\n      <td>2.6</td>\n      <td>5.75</td>\n      <td>-1</td>\n      <td>3.4</td>\n      <td>-1</td>\n      <td>18</td>\n    </tr>\n    <tr>\n      <th>4</th>\n      <td>18010247</td>\n      <td>6.25</td>\n      <td>8.0</td>\n      <td>-1</td>\n      <td>-1</td>\n      <td>5.92</td>\n      <td>3.5</td>\n      <td>3.0</td>\n      <td>6.75</td>\n      <td>-1</td>\n      <td>3.8</td>\n      <td>-1</td>\n      <td>18</td>\n    </tr>\n  </tbody>\n</table>\n</div>"
     },
     "metadata": {},
     "execution_count": 21
    }
   ],
   "source": [
    "df_2018.head()"
   ]
  },
  {
   "cell_type": "code",
   "execution_count": null,
   "metadata": {},
   "outputs": [],
   "source": []
  }
 ],
 "metadata": {
  "kernelspec": {
   "display_name": "Python 3",
   "language": "python",
   "name": "python3"
  },
  "language_info": {
   "codemirror_mode": {
    "name": "ipython",
    "version": 3
   },
   "file_extension": ".py",
   "mimetype": "text/x-python",
   "name": "python",
   "nbconvert_exporter": "python",
   "pygments_lexer": "ipython3",
   "version": "3.8.5-final"
  }
 },
 "nbformat": 4,
 "nbformat_minor": 5
}